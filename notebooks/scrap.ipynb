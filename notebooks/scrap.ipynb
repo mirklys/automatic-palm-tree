{
 "cells": [
  {
   "cell_type": "code",
   "execution_count": 1,
   "id": "f217ad3c",
   "metadata": {},
   "outputs": [],
   "source": [
    "from neuro import SignalProcessor"
   ]
  },
  {
   "cell_type": "code",
   "execution_count": 8,
   "id": "5d23a1cf",
   "metadata": {},
   "outputs": [
    {
     "name": "stdout",
     "output_type": "stream",
     "text": [
      "SignalProcessor created with name: LFP_Channel_1\n"
     ]
    }
   ],
   "source": [
    "proc = SignalProcessor(\"LFP_Channel_1\")"
   ]
  },
  {
   "cell_type": "code",
   "execution_count": 9,
   "id": "b215f449",
   "metadata": {},
   "outputs": [
    {
     "name": "stdout",
     "output_type": "stream",
     "text": [
      "LFP_Channel_1\n"
     ]
    }
   ],
   "source": [
    "print(proc.name)\n"
   ]
  },
  {
   "cell_type": "code",
   "execution_count": 10,
   "id": "e42633f4",
   "metadata": {},
   "outputs": [
    {
     "name": "stdout",
     "output_type": "stream",
     "text": [
      "Setting threshold to: 2\n"
     ]
    }
   ],
   "source": [
    "proc.set_threshold(2.0)"
   ]
  },
  {
   "cell_type": "code",
   "execution_count": 11,
   "id": "da0145ec",
   "metadata": {},
   "outputs": [
    {
     "name": "stdout",
     "output_type": "stream",
     "text": [
      "[2, 4]\n",
      "Finding peaks with threshold: 2\n"
     ]
    }
   ],
   "source": [
    "my_data = [0.5, 1.5, 2.5, 0.2, 3.7, 1.8]\n",
    "peaks = proc.find_peaks(my_data)\n",
    "print(peaks)"
   ]
  }
 ],
 "metadata": {
  "kernelspec": {
   "display_name": "neuro-cpp",
   "language": "python",
   "name": "python3"
  },
  "language_info": {
   "codemirror_mode": {
    "name": "ipython",
    "version": 3
   },
   "file_extension": ".py",
   "mimetype": "text/x-python",
   "name": "python",
   "nbconvert_exporter": "python",
   "pygments_lexer": "ipython3",
   "version": "3.12.11"
  }
 },
 "nbformat": 4,
 "nbformat_minor": 5
}
